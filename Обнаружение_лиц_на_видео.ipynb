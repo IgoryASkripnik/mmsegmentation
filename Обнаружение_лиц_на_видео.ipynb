{
  "nbformat": 4,
  "nbformat_minor": 0,
  "metadata": {
    "colab": {
      "private_outputs": true,
      "provenance": [],
      "authorship_tag": "ABX9TyPxZVmm7apKaiH7FGroROI7",
      "include_colab_link": true
    },
    "kernelspec": {
      "name": "python3",
      "display_name": "Python 3"
    },
    "language_info": {
      "name": "python"
    }
  },
  "cells": [
    {
      "cell_type": "markdown",
      "metadata": {
        "id": "view-in-github",
        "colab_type": "text"
      },
      "source": [
        "<a href=\"https://colab.research.google.com/github/IgoryASkripnik/mmsegmentation/blob/main/%D0%9E%D0%B1%D0%BD%D0%B0%D1%80%D1%83%D0%B6%D0%B5%D0%BD%D0%B8%D0%B5_%D0%BB%D0%B8%D1%86_%D0%BD%D0%B0_%D0%B2%D0%B8%D0%B4%D0%B5%D0%BE.ipynb\" target=\"_parent\"><img src=\"https://colab.research.google.com/assets/colab-badge.svg\" alt=\"Open In Colab\"/></a>"
      ]
    },
    {
      "cell_type": "markdown",
      "source": [
        "# Подключение библиотек и Гугл диска"
      ],
      "metadata": {
        "id": "0gEf4Ku9ZTSG"
      }
    },
    {
      "cell_type": "code",
      "source": [
        "# Подключение к Google диску\n",
        "import cv2\n",
        "import os\n",
        "from google.colab import drive\n",
        "if not os.path.exists('/content/drive'):\n",
        "    drive.mount('/content/drive')"
      ],
      "metadata": {
        "id": "VTGz6VOBZRkm"
      },
      "execution_count": null,
      "outputs": []
    },
    {
      "cell_type": "markdown",
      "source": [
        "# Загрузка файла Дата сет и изображения"
      ],
      "metadata": {
        "id": "wW-EBMxJY4f6"
      }
    },
    {
      "cell_type": "code",
      "source": [
        "import cv2\n",
        "xml_dir = '/content/drive/MyDrive/xml/'\n",
        "face_cascade = cv2.CascadeClassifier(xml_dir + 'haarcascade_frontalface_default.xml')\n",
        "img_dir = '/content/drive/MyDrive/Images/'\n",
        "image = cv2.imread(img_dir+\"xfiles44.jpg\")"
      ],
      "metadata": {
        "id": "ODEE_vdZaafa"
      },
      "execution_count": null,
      "outputs": []
    },
    {
      "cell_type": "code",
      "source": [
        "\n",
        "# Показать изображение\n",
        "# cv2.imshow('img', img)  - используется вне колаба\n",
        "#image = cv2.imread(img_dir+\"xfiles4.jpg\")\n",
        "from google.colab.patches import cv2_imshow\n",
        "cv2_imshow(image)              # Используется в колабе\n"
      ],
      "metadata": {
        "id": "iIqWe0fzeHR4"
      },
      "execution_count": null,
      "outputs": []
    },
    {
      "cell_type": "markdown",
      "source": [
        "# Обработка\n"
      ],
      "metadata": {
        "id": "Vfpc037Ncbku"
      }
    },
    {
      "cell_type": "code",
      "source": [
        "gray = cv2.cvtColor(image, cv2.COLOR_BGR2GRAY)        # Ч/б преобразование\n",
        "faces = face_cascade.detectMultiScale(gray, 1.1, 5) # Обнаружение лиц"
      ],
      "metadata": {
        "id": "mfh_ch62ciBu"
      },
      "execution_count": null,
      "outputs": []
    },
    {
      "cell_type": "code",
      "source": [
        "cv2_imshow(gray)\n",
        "print(len(faces)) # Количество обнаруженных лиц"
      ],
      "metadata": {
        "id": "Xpn-7pG-hDo3"
      },
      "execution_count": null,
      "outputs": []
    },
    {
      "cell_type": "code",
      "source": [
        "for (x, y, w, h) in faces:\n",
        " cv2.rectangle(image, (x, y), (x+w, y+h), (255, 0, 0), 2) # Рисуем квадрат вокруг лица\n",
        " #cv2.imshow('img', image) -\n",
        "cv2_imshow(image)    # В колабе                          # Показать полученное изображение\n",
        "cv2.waitKey(0)\n",
        "cv2.destroyAllWindows()"
      ],
      "metadata": {
        "id": "AfS2Cb0gheWv"
      },
      "execution_count": null,
      "outputs": []
    },
    {
      "cell_type": "markdown",
      "source": [
        "# Обнаружение лиц в видео потоке"
      ],
      "metadata": {
        "id": "LtxiBbUxjPw0"
      }
    },
    {
      "cell_type": "code",
      "source": [
        "# Выбор и подкючение ВЭБ камеры\n",
        "capture_io = cv2.VideoCapture(\"/content/drive/MyDrive/Images/video_preview_h264.mp4\")\n",
        "while True:\n",
        " _, img = capture_io.read()\n",
        "\n",
        " cv2_imshow(img)\n",
        "\n",
        "\"\"\"\n",
        " if _ :\n",
        "   print(_)\n",
        "\"\"\""
      ],
      "metadata": {
        "id": "JpHFpUyGqM5l"
      },
      "execution_count": null,
      "outputs": []
    },
    {
      "cell_type": "markdown",
      "source": [
        "# Поиск лиц в Видео файле"
      ],
      "metadata": {
        "id": "O75jbSOG_q-g"
      }
    },
    {
      "cell_type": "code",
      "source": [
        "\n",
        "import cv2\n",
        "import os\n",
        "from google.colab import drive\n",
        "from google.colab.patches import cv2_imshow\n",
        "\n",
        "xml_dir = '/content/drive/MyDrive/xml/'\n",
        "face_cascade = cv2.CascadeClassifier(xml_dir + 'haarcascade_frontalface_default.xml')\n",
        "img_dir = '/content/drive/MyDrive/Images/'\n",
        "\n",
        "capture_io = cv2.VideoCapture('/content/drive/MyDrive/Images/video_preview_h264.mp4')\n",
        "\n",
        "while True:\n",
        " _, img = capture_io.read()\n",
        "\n",
        " #cv2_imshow(img)\n",
        "\n",
        " gray = cv2.cvtColor(img, cv2.COLOR_BGR2GRAY)\n",
        " #cv2_imshow(gray)\n",
        " faces = face_cascade.detectMultiScale(gray, 1.2, 2)\n",
        " #print(len(faces))\n",
        "\n",
        " for (x, y, w, h) in faces:\n",
        "   cv2.rectangle(img, (x, y), (x+w, y+h), (255, 0, 0), 2)\n",
        "   cv2_imshow(img)    # В колабе\n",
        "\n",
        "\"\"\"\n",
        "if cv2.waitKey(10) & 0xFF == ord('q'):\n",
        "    break\n",
        "    capture_io.release()\n",
        "    cv2.destroyAllWindows()\n",
        "\"\"\""
      ],
      "metadata": {
        "id": "FV_n4EjfjfTz"
      },
      "execution_count": null,
      "outputs": []
    },
    {
      "cell_type": "code",
      "source": [],
      "metadata": {
        "id": "I27Ym99UPQ5k"
      },
      "execution_count": null,
      "outputs": []
    },
    {
      "cell_type": "code",
      "source": [
        "! pip install selenium"
      ],
      "metadata": {
        "id": "cdnuMo79x51u"
      },
      "execution_count": null,
      "outputs": []
    },
    {
      "cell_type": "code",
      "source": [
        "#from\n",
        "import selenium.webdriver as wd"
      ],
      "metadata": {
        "id": "DZY-CMzFPKKq"
      },
      "execution_count": null,
      "outputs": []
    },
    {
      "cell_type": "code",
      "source": [
        "browser = wd.Chrome(executable_path=  \"C:\\Program Files (x86)\\Yandex\\YandexBrowser\\24.1.0.2570\\service_update.exe\")"
      ],
      "metadata": {
        "id": "cbTQb6kgPyYj"
      },
      "execution_count": null,
      "outputs": []
    }
  ]
}